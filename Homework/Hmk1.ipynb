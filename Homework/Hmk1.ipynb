{
  "nbformat": 4,
  "nbformat_minor": 0,
  "metadata": {
    "colab": {
      "name": "Hmk1.ipynb",
      "provenance": [],
      "authorship_tag": "ABX9TyNGs+euqCZfIiwogi1VpGUb",
      "include_colab_link": true
    },
    "kernelspec": {
      "name": "python3",
      "display_name": "Python 3"
    },
    "language_info": {
      "name": "python"
    }
  },
  "cells": [
    {
      "cell_type": "markdown",
      "metadata": {
        "id": "view-in-github",
        "colab_type": "text"
      },
      "source": [
        "<a href=\"https://colab.research.google.com/github/AndrewCrossman/PHYS624_Condensed_Matter/blob/main/Homework/Hmk1.ipynb\" target=\"_parent\"><img src=\"https://colab.research.google.com/assets/colab-badge.svg\" alt=\"Open In Colab\"/></a>"
      ]
    },
    {
      "cell_type": "markdown",
      "source": [
        "# **Imports**"
      ],
      "metadata": {
        "id": "sL2-GFwR2Z3p"
      }
    },
    {
      "cell_type": "code",
      "execution_count": 2,
      "metadata": {
        "colab": {
          "base_uri": "https://localhost:8080/"
        },
        "id": "iwQA7vW72JG_",
        "outputId": "dc8abce9-2911-4a08-87ad-e2b3ff5f65a2"
      },
      "outputs": [
        {
          "output_type": "stream",
          "name": "stdout",
          "text": [
            "Populating the interactive namespace from numpy and matplotlib\n"
          ]
        },
        {
          "output_type": "stream",
          "name": "stderr",
          "text": [
            "/usr/local/lib/python3.7/dist-packages/IPython/core/magics/pylab.py:161: UserWarning: pylab import has clobbered these variables: ['plt']\n",
            "`%matplotlib` prevents importing * from pylab and numpy\n",
            "  \"\\n`%matplotlib` prevents importing * from pylab and numpy\"\n"
          ]
        }
      ],
      "source": [
        "import pandas as pd\n",
        "import numpy as np\n",
        "import pylab as plt\n",
        "from google.colab import drive\n",
        "%pylab inline"
      ]
    },
    {
      "cell_type": "markdown",
      "source": [
        "# **Problem One: Madelung Constant For Ionic 1D Crystal**"
      ],
      "metadata": {
        "id": "x4HbSRN32mVJ"
      }
    },
    {
      "cell_type": "code",
      "source": [
        "def Find_Madelung_Constant(x):\n",
        "  M=0\n",
        "  i=1\n",
        "  while i<(x+1):\n",
        "    M+= (-1)**(i+1)*2/i\n",
        "    i+=1\n",
        "  return M"
      ],
      "metadata": {
        "id": "9M0o14Cl2rjc"
      },
      "execution_count": null,
      "outputs": []
    },
    {
      "cell_type": "code",
      "source": [
        "Find_Madelung_Constant(1000), Find_Madelung_Constant(2000),Find_Madelung_Constant(3000),Find_Madelung_Constant(4000),Find_Madelung_Constant(5000)"
      ],
      "metadata": {
        "colab": {
          "base_uri": "https://localhost:8080/"
        },
        "id": "G6bD04NG3vGx",
        "outputId": "31af06ad-4c02-46ac-fbc5-1eff1cfb1502"
      },
      "execution_count": null,
      "outputs": [
        {
          "output_type": "execute_result",
          "data": {
            "text/plain": [
              "(1.3852948611196445,\n",
              " 1.3857944861198805,\n",
              " 1.3859610833421196,\n",
              " 1.3860443923699017,\n",
              " 1.386094381119903)"
            ]
          },
          "metadata": {},
          "execution_count": 12
        }
      ]
    },
    {
      "cell_type": "code",
      "source": [
        "Find_Madelung_Constant(6000), Find_Madelung_Constant(7000),Find_Madelung_Constant(8000),Find_Madelung_Constant(9000),Find_Madelung_Constant(10000)"
      ],
      "metadata": {
        "colab": {
          "base_uri": "https://localhost:8080/"
        },
        "id": "FBxJs6O94OaT",
        "outputId": "ba2ec2e0-5133-41dc-dfc7-f0308ea3c66f"
      },
      "execution_count": null,
      "outputs": [
        {
          "output_type": "execute_result",
          "data": {
            "text/plain": [
              "(1.3861277083421282,\n",
              " 1.3861515141811314,\n",
              " 1.386169368932413,\n",
              " 1.3861832561816416,\n",
              " 1.3861943661199165)"
            ]
          },
          "metadata": {},
          "execution_count": 13
        }
      ]
    },
    {
      "cell_type": "markdown",
      "source": [
        "# **Problem Two: Madelung Constant for Sodium Chloride**"
      ],
      "metadata": {
        "id": "RJqs-21D5l6J"
      }
    },
    {
      "cell_type": "code",
      "source": [
        "def screened_potential(n,x,p):\n",
        "  return n * np.exp(-x*p) / p"
      ],
      "metadata": {
        "id": "eWwUJTvV13qK"
      },
      "execution_count": 16,
      "outputs": []
    },
    {
      "cell_type": "code",
      "source": [
        "def Find_Screened_Madelung_Constant(x):\n",
        "  nn1 = -screened_potential(6,x,1)\n",
        "  nn2 = screened_potential(12,x,np.sqrt(2))\n",
        "  nn3 = -screened_potential(8,x,np.sqrt(3))\n",
        "  nn4 = screened_potential(6,x,2)\n",
        "  nn5 = -screened_potential(24,x,2.235)\n",
        "  nn6 = screened_potential(24,x,2.45)\n",
        "  nn7 = -screened_potential(12,x,2.8275)\n",
        "  nn8 = screened_potential(30,x,3)\n",
        "  nn9 = -screened_potential(24,x,3.1625)\n",
        "  nn10 = screened_potential(24,x,3.3175)\n",
        "  nn11 = -screened_potential(8,x,3.465)\n",
        "  #nn12 = screened_potential(24,x,3.605)\n",
        "  return nn1+nn2+nn3+nn4+nn5+nn6+nn7+nn8+nn9+nn10+nn11#+nn12"
      ],
      "metadata": {
        "id": "326sqcmN5wfm"
      },
      "execution_count": 62,
      "outputs": []
    },
    {
      "cell_type": "code",
      "source": [
        "Ms = []\n",
        "r = np.linspace(.1,1,10)\n",
        "for a in r:\n",
        "  print(a)\n",
        "  Ms.append(Find_Screened_Madelung_Constant(a))\n",
        "\n",
        "c2,c1,c0 = np.polyfit(np.linspace(.1,1,10),Ms,2)\n",
        "print(\"Quadratic Formula Fit:{0}x^2+{1}x+{2}\".format(round(c2,3),round(c1,3),round(c0)))\n",
        "\n",
        "fit = c2*r*r+c1*r+c0\n",
        "\n",
        "plt.scatter(r,Ms, color='k', label='calc')\n",
        "plt.plot(r,fit, color='r', label=\"fit\")\n",
        "plt.ylabel(\"Madelung Constant\")\n",
        "plt.xlabel(r'$\\alpha$r');\n",
        "plt.xticks(r,np.arange(1,11)/10);\n",
        "plt.title(\"Madelung Constant with 11th Nearest Nieghbors\")\n",
        "plt.tight_layout()"
      ],
      "metadata": {
        "id": "CEoSw0hY6gYm",
        "outputId": "aeb23c52-c79a-4b61-fe38-d01073903a71",
        "colab": {
          "base_uri": "https://localhost:8080/",
          "height": 488
        }
      },
      "execution_count": 74,
      "outputs": [
        {
          "output_type": "stream",
          "name": "stdout",
          "text": [
            "0.1\n",
            "0.2\n",
            "0.30000000000000004\n",
            "0.4\n",
            "0.5\n",
            "0.6\n",
            "0.7000000000000001\n",
            "0.8\n",
            "0.9\n",
            "1.0\n",
            "Quadratic Formula Fit:4.789x^2+-7.841x+2\n"
          ]
        },
        {
          "output_type": "display_data",
          "data": {
            "image/png": "[encoded data removed]",
            "text/plain": [
              "<Figure size 432x288 with 1 Axes>"
            ]
          },
          "metadata": {
            "needs_background": "light"
          }
        }
      ]
    }
  ]
}