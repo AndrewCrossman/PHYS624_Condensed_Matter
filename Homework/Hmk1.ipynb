{
  "nbformat": 4,
  "nbformat_minor": 0,
  "metadata": {
    "colab": {
      "name": "Hmk1.ipynb",
      "provenance": [],
      "authorship_tag": "ABX9TyO6MAxVGW9s3HhX9tB7y7W+",
      "include_colab_link": true
    },
    "kernelspec": {
      "name": "python3",
      "display_name": "Python 3"
    },
    "language_info": {
      "name": "python"
    }
  },
  "cells": [
    {
      "cell_type": "markdown",
      "metadata": {
        "id": "view-in-github",
        "colab_type": "text"
      },
      "source": [
        "<a href=\"https://colab.research.google.com/github/AndrewCrossman/PHYS624_Condensed_Matter/blob/main/Homework/Hmk1.ipynb\" target=\"_parent\"><img src=\"https://colab.research.google.com/assets/colab-badge.svg\" alt=\"Open In Colab\"/></a>"
      ]
    },
    {
      "cell_type": "markdown",
      "source": [
        "# **Imports**"
      ],
      "metadata": {
        "id": "sL2-GFwR2Z3p"
      }
    },
    {
      "cell_type": "code",
      "execution_count": 1,
      "metadata": {
        "colab": {
          "base_uri": "https://localhost:8080/"
        },
        "id": "iwQA7vW72JG_",
        "outputId": "0459fbb4-dd34-44e3-f662-0b1c984ac270"
      },
      "outputs": [
        {
          "output_type": "stream",
          "name": "stdout",
          "text": [
            "Populating the interactive namespace from numpy and matplotlib\n"
          ]
        },
        {
          "output_type": "stream",
          "name": "stderr",
          "text": [
            "/usr/local/lib/python3.7/dist-packages/IPython/core/magics/pylab.py:161: UserWarning: pylab import has clobbered these variables: ['plt']\n",
            "`%matplotlib` prevents importing * from pylab and numpy\n",
            "  \"\\n`%matplotlib` prevents importing * from pylab and numpy\"\n"
          ]
        }
      ],
      "source": [
        "import pandas as pd\n",
        "import numpy as np\n",
        "import pylab as plt\n",
        "from google.colab import drive\n",
        "%pylab inline"
      ]
    },
    {
      "cell_type": "markdown",
      "source": [
        "# **Problem One: Madelung Constant For Ionic 1D Crystal**"
      ],
      "metadata": {
        "id": "x4HbSRN32mVJ"
      }
    },
    {
      "cell_type": "code",
      "source": [
        "def Find_Madelung_Constant(x):\n",
        "  M=0\n",
        "  i=1\n",
        "  while i<(x+1):\n",
        "    M+= (-1)**(i+1)*2/i\n",
        "    i+=1\n",
        "  return M"
      ],
      "metadata": {
        "id": "9M0o14Cl2rjc"
      },
      "execution_count": 7,
      "outputs": []
    },
    {
      "cell_type": "code",
      "source": [
        "Find_Madelung_Constant(1000), Find_Madelung_Constant(2000),Find_Madelung_Constant(3000),Find_Madelung_Constant(4000),Find_Madelung_Constant(5000)"
      ],
      "metadata": {
        "colab": {
          "base_uri": "https://localhost:8080/"
        },
        "id": "G6bD04NG3vGx",
        "outputId": "31af06ad-4c02-46ac-fbc5-1eff1cfb1502"
      },
      "execution_count": 12,
      "outputs": [
        {
          "output_type": "execute_result",
          "data": {
            "text/plain": [
              "(1.3852948611196445,\n",
              " 1.3857944861198805,\n",
              " 1.3859610833421196,\n",
              " 1.3860443923699017,\n",
              " 1.386094381119903)"
            ]
          },
          "metadata": {},
          "execution_count": 12
        }
      ]
    },
    {
      "cell_type": "code",
      "source": [
        "Find_Madelung_Constant(6000), Find_Madelung_Constant(7000),Find_Madelung_Constant(8000),Find_Madelung_Constant(9000),Find_Madelung_Constant(10000)"
      ],
      "metadata": {
        "colab": {
          "base_uri": "https://localhost:8080/"
        },
        "id": "FBxJs6O94OaT",
        "outputId": "ba2ec2e0-5133-41dc-dfc7-f0308ea3c66f"
      },
      "execution_count": 13,
      "outputs": [
        {
          "output_type": "execute_result",
          "data": {
            "text/plain": [
              "(1.3861277083421282,\n",
              " 1.3861515141811314,\n",
              " 1.386169368932413,\n",
              " 1.3861832561816416,\n",
              " 1.3861943661199165)"
            ]
          },
          "metadata": {},
          "execution_count": 13
        }
      ]
    }
  ]
}