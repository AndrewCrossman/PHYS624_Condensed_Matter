{
  "nbformat": 4,
  "nbformat_minor": 0,
  "metadata": {
    "colab": {
      "name": "hmk7.ipynb",
      "provenance": [],
      "authorship_tag": "ABX9TyMYyNoptC+CVA+iHC0ASKg+",
      "include_colab_link": true
    },
    "kernelspec": {
      "name": "python3",
      "display_name": "Python 3"
    },
    "language_info": {
      "name": "python"
    }
  },
  "cells": [
    {
      "cell_type": "markdown",
      "metadata": {
        "id": "view-in-github",
        "colab_type": "text"
      },
      "source": [
        "<a href=\"https://colab.research.google.com/github/AndrewCrossman/PHYS624_Condensed_Matter/blob/main/hmk7.ipynb\" target=\"_parent\"><img src=\"https://colab.research.google.com/assets/colab-badge.svg\" alt=\"Open In Colab\"/></a>"
      ]
    },
    {
      "cell_type": "code",
      "execution_count": 1,
      "metadata": {
        "colab": {
          "base_uri": "https://localhost:8080/"
        },
        "id": "mFoAsrqEJI_W",
        "outputId": "103df45a-f39a-4372-e225-7ef2856122af"
      },
      "outputs": [
        {
          "output_type": "stream",
          "name": "stdout",
          "text": [
            "Populating the interactive namespace from numpy and matplotlib\n"
          ]
        },
        {
          "output_type": "stream",
          "name": "stderr",
          "text": [
            "/usr/local/lib/python3.7/dist-packages/IPython/core/magics/pylab.py:161: UserWarning: pylab import has clobbered these variables: ['plt']\n",
            "`%matplotlib` prevents importing * from pylab and numpy\n",
            "  \"\\n`%matplotlib` prevents importing * from pylab and numpy\"\n"
          ]
        }
      ],
      "source": [
        "import numpy as np\n",
        "import scipy as sp\n",
        "from scipy import stats\n",
        "import matplotlib.pylab as plt\n",
        "from scipy.stats import linregress\n",
        "from scipy import optimize\n",
        "from google.colab import files\n",
        "%pylab inline\n",
        "#plt.style.use(\"https://raw.githubusercontent.com/fedhere/DSPS/master/fbb.mplstyle\")"
      ]
    },
    {
      "cell_type": "code",
      "source": [
        "def g(k):\n",
        "  B = 1\n",
        "  x = 1\n",
        "  return 1/(2*np.pi) * 1/(2*B*x)*(1/(x*k) + x*k/6 + 7*x**3*k**3/360)"
      ],
      "metadata": {
        "id": "BRC-MFoNJJu5"
      },
      "execution_count": 2,
      "outputs": []
    },
    {
      "cell_type": "code",
      "source": [
        "def E(k):\n",
        "  E0 = 1\n",
        "  A = 1\n",
        "  B = 1\n",
        "  x = 1\n",
        "  return E0 - A - 2*B*np.cos(k*x)"
      ],
      "metadata": {
        "id": "Fp6liqVtJubT"
      },
      "execution_count": 7,
      "outputs": []
    },
    {
      "cell_type": "code",
      "source": [
        "ks = np.linspace(.005*2*np.pi, 2*2*np.pi, 1000)"
      ],
      "metadata": {
        "id": "9iwsDVnsJ9vE"
      },
      "execution_count": 80,
      "outputs": []
    },
    {
      "cell_type": "code",
      "source": [
        "#plt.scatter(g(ks),E(ks))\n",
        "plt.scatter(ks, g(ks))\n",
        "plt.ylabel(r'g(k)')\n",
        "plt.xlabel(r'k')"
      ],
      "metadata": {
        "colab": {
          "base_uri": "https://localhost:8080/",
          "height": 296
        },
        "id": "v8JvtXj8KD_M",
        "outputId": "416ec2e3-a213-4c16-a786-f2079d2c7018"
      },
      "execution_count": 81,
      "outputs": [
        {
          "output_type": "execute_result",
          "data": {
            "text/plain": [
              "Text(0.5, 0, 'k')"
            ]
          },
          "metadata": {},
          "execution_count": 81
        },
        {
          "output_type": "display_data",
          "data": {
            "text/plain": [
              "<Figure size 432x288 with 1 Axes>"
            ],
            "image/png": "[encoded data removed]"
          },
          "metadata": {
            "needs_background": "light"
          }
        }
      ]
    },
    {
      "cell_type": "markdown",
      "source": [
        "Problem 4"
      ],
      "metadata": {
        "id": "5XBA370rSzwr"
      }
    },
    {
      "cell_type": "code",
      "source": [
        "def t(x,y,z):\n",
        "  a=1\n",
        "  return -np.cos(x*a/2)*np.cos(y*a/2)*np.cos(z*a/2)"
      ],
      "metadata": {
        "id": "aPbyk_8BSzCH"
      },
      "execution_count": 25,
      "outputs": []
    },
    {
      "cell_type": "code",
      "source": [
        "ks2 = np.linspace(0,np.pi,100)\n",
        "line2 = np.linspace(0,np.sqrt(2)*np.pi,100)\n",
        "line3 = np.linspace(np.sqrt(2)*np.pi,np.sqrt(3)*np.pi,100)\n",
        "line4 = np.linspace(0,np.sqrt(3)*np.pi,100)"
      ],
      "metadata": {
        "id": "_uakVK8CTH8V"
      },
      "execution_count": 54,
      "outputs": []
    },
    {
      "cell_type": "code",
      "source": [
        "plt.plot(line2, t(ks2,ks2,0),label=\"line 1\", alpha=.8, linewidth=3)\n",
        "plt.plot(line3, t(np.pi,np.pi, ks2),label=\"line 2\", alpha=.8, linewidth=3)\n",
        "plt.plot(line4, t(ks2,ks2, ks2),label=\"line 3\", alpha=.7, linewidth=3)\n",
        "plt.legend()\n",
        "plt.xlabel(\"Magnitude of K\")\n",
        "plt.ylabel(\"E-E0 [t]\")\n",
        "plt.grid()"
      ],
      "metadata": {
        "colab": {
          "base_uri": "https://localhost:8080/",
          "height": 279
        },
        "id": "Z66Dy-grTWLc",
        "outputId": "6823e651-401f-4188-c6c4-110fc7274561"
      },
      "execution_count": 63,
      "outputs": [
        {
          "output_type": "display_data",
          "data": {
            "text/plain": [
              "<Figure size 432x288 with 1 Axes>"
            ],
            "image/png": "[encoded data removed]"
          },
          "metadata": {
            "needs_background": "light"
          }
        }
      ]
    }
  ]
}